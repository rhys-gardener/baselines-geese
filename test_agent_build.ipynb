{
 "cells": [
  {
   "cell_type": "code",
   "execution_count": 1,
   "id": "rising-nebraska",
   "metadata": {},
   "outputs": [],
   "source": [
    "import numpy as np\n",
    "import torch as th\n",
    "from torch import nn as nn\n",
    "import torch.nn.functional as F\n",
    "from torch import tensor\n",
    "    "
   ]
  },
  {
   "cell_type": "code",
   "execution_count": 2,
   "id": "original-texas",
   "metadata": {},
   "outputs": [],
   "source": [
    "model_path = 'tmp/best_model/best_model'"
   ]
  },
  {
   "cell_type": "code",
   "execution_count": 68,
   "id": "valid-niagara",
   "metadata": {},
   "outputs": [],
   "source": [
    "class ConvNet(nn.Module):\n",
    "    def __init__(self):\n",
    "        super(Net, self).__init__()\n",
    "        self.conv1 = nn.Conv2d(7, 32, kernel_size=1)\n",
    "        self.conv2 = nn.Conv2d(32, 64, kernel_size=1)\n",
    "        self.fc3 = nn.Linear(2112, 512)\n",
    "        self.shared1 = nn.Linear(512, 64)\n",
    "        self.policy1 = nn.Linear(64, 32)\n",
    "        self.policy2 = nn.Linear(32, 16)\n",
    "        self.action = nn.Linear(16, 4)\n",
    "\n",
    "    def forward(self, x):\n",
    "        x = F.relu(self.conv1(x))\n",
    "        x = F.relu(self.conv2(x))\n",
    "        x = nn.Flatten()(x)\n",
    "        x = F.relu(self.fc3(x))\n",
    "        x = F.relu(self.shared1(x))\n",
    "        x = F.relu(self.policy1(x))\n",
    "        x = F.relu(self.policy2(x))\n",
    "        x = self.action(x)\n",
    "        x = x.argmax()\n",
    "        return x\n",
    "\n",
    "class Net(nn.Module):\n",
    "    def __init__(self):\n",
    "        super(Net, self).__init__()\n",
    "        #self.shared1 = th.nn.Sequential()\n",
    "        self.policy1 = nn.Linear(231, 64)\n",
    "        self.policy2 = nn.Linear(64, 64)\n",
    "        self.action = nn.Linear(64, 4)\n",
    "\n",
    "    def forward(self, x):\n",
    "        x = nn.Flatten(start_dim=1, end_dim=-1)(x)\n",
    "        x = F.tanh(self.policy1(x))\n",
    "        x = F.tanh(self.policy2(x))\n",
    "        x = self.action(x)\n",
    "        x = x.argmax()\n",
    "        return x\n"
   ]
  },
  {
   "cell_type": "markdown",
   "id": "improving-behavior",
   "metadata": {},
   "source": [
    "mlp_extractor.policy_net.0.weight', 'mlp_extractor.policy_net.0.bias', 'mlp_extractor.policy_net.2.weight', 'mlp_extractor.policy_net.2.bias', 'mlp_extractor.value_net.0.weight', 'mlp_extractor.value_net.0.bias', 'mlp_extractor.value_net.2.weight', 'mlp_extractor.value_net.2.bias', 'action_net.weight', 'action_net.bias', 'value_net.weight', 'value_net.bias'"
   ]
  },
  {
   "cell_type": "markdown",
   "id": "reflected-classification",
   "metadata": {},
   "source": [
    "ctorCriticPolicy(  \n",
    "  (features_extractor): FlattenExtractor(  \n",
    "    (flatten): Flatten(start_dim=1, end_dim=-1)  \n",
    "  )  \n",
    "  (mlp_extractor): MlpExtractor(  \n",
    "    (shared_net): Sequential()  \n",
    "    (policy_net): Sequential(  \n",
    "      (0): Linear(in_features=231, out_features=64, bias=True)  \n",
    "      (1): Tanh()  \n",
    "      (2): Linear(in_features=64, out_features=64, bias=True)  \n",
    "      (3): Tanh()  \n",
    "    )  \n",
    "    (value_net): Sequential(  \n",
    "      (0): Linear(in_features=231, out_features=64, bias=True)  \n",
    "      (1): Tanh() \n",
    "      (2): Linear(in_features=64, out_features=64, bias=True)  \n",
    "      (3): Tanh()  \n",
    "    )  \n",
    "  )  \n",
    "  (action_net): Linear(in_features=64, out_features=4, bias=True)  \n",
    "  (value_net): Linear(in_features=64, out_features=1, bias=True)  \n",
    ")  "
   ]
  },
  {
   "cell_type": "code",
   "execution_count": 69,
   "id": "innovative-arena",
   "metadata": {},
   "outputs": [],
   "source": [
    "model = Net()"
   ]
  },
  {
   "cell_type": "code",
   "execution_count": 99,
   "id": "finished-collection",
   "metadata": {},
   "outputs": [],
   "source": [
    "model = th.load('best_model/policy.pth')"
   ]
  },
  {
   "cell_type": "code",
   "execution_count": 100,
   "id": "interim-lobby",
   "metadata": {},
   "outputs": [
    {
     "data": {
      "text/plain": [
       "OrderedDict([('mlp_extractor.policy_net.0.weight',\n",
       "              tensor([[-0.1451, -0.0613, -0.1015,  ..., -0.1770,  0.0284,  0.0035],\n",
       "                      [-0.0029, -0.0002, -0.0300,  ...,  0.1078,  0.0113, -0.0608],\n",
       "                      [ 0.0983,  0.0087,  0.0754,  ...,  0.0177, -0.0246, -0.0696],\n",
       "                      ...,\n",
       "                      [ 0.0118,  0.1192, -0.0972,  ...,  0.1197, -0.0740,  0.0981],\n",
       "                      [ 0.0280, -0.0479,  0.1426,  ...,  0.0137, -0.0828, -0.1245],\n",
       "                      [-0.1264,  0.1727, -0.0023,  ..., -0.2118, -0.0293, -0.0548]],\n",
       "                     device='cuda:0')),\n",
       "             ('mlp_extractor.policy_net.0.bias',\n",
       "              tensor([ 1.0918e-04,  3.1626e-05,  5.7694e-05, -4.9769e-06,  1.0920e-05,\n",
       "                       2.0709e-05, -4.7005e-06,  5.1650e-05,  1.9498e-05,  1.1115e-05,\n",
       "                      -4.3169e-05, -1.2275e-05, -3.6334e-05, -2.7966e-05,  3.6487e-05,\n",
       "                      -7.9229e-06, -4.3484e-05,  1.3143e-05,  4.5730e-05,  1.9350e-05,\n",
       "                       6.1795e-06,  1.6157e-05, -1.7471e-05,  8.8466e-05, -4.1949e-06,\n",
       "                       7.4423e-05,  2.9543e-06,  1.5461e-05, -8.2895e-06,  5.4254e-07,\n",
       "                      -1.0695e-04, -2.4130e-05, -7.0191e-06,  4.1858e-05, -1.1172e-05,\n",
       "                       2.9876e-06,  2.0844e-05,  3.2972e-06,  3.8727e-05, -1.8966e-05,\n",
       "                      -9.9022e-06,  4.4085e-05, -1.0243e-05,  2.8020e-05,  1.1069e-05,\n",
       "                       2.6351e-05,  1.9084e-05,  6.7531e-05, -1.8817e-04, -3.0076e-05,\n",
       "                       2.0506e-05, -1.3892e-05,  2.1757e-05, -1.2943e-04, -1.3195e-06,\n",
       "                       1.5524e-05,  8.9909e-06, -2.8567e-06, -1.5467e-05,  5.3032e-05,\n",
       "                       2.4617e-05, -5.4881e-05,  3.0553e-05,  5.9353e-05], device='cuda:0')),\n",
       "             ('mlp_extractor.policy_net.2.weight',\n",
       "              tensor([[-0.0213,  0.3274, -0.0984,  ..., -0.1549, -0.2022, -0.1005],\n",
       "                      [-0.0319, -0.0173,  0.1701,  ..., -0.1067, -0.1662, -0.0213],\n",
       "                      [-0.0077, -0.3234, -0.0429,  ...,  0.1536, -0.2863,  0.2678],\n",
       "                      ...,\n",
       "                      [-0.2155,  0.1311,  0.0748,  ..., -0.0863, -0.0571,  0.1584],\n",
       "                      [ 0.1996,  0.1041, -0.0784,  ...,  0.1975,  0.2531,  0.0619],\n",
       "                      [ 0.1050,  0.0314,  0.0532,  ..., -0.0486,  0.1008,  0.1753]],\n",
       "                     device='cuda:0')),\n",
       "             ('mlp_extractor.policy_net.2.bias',\n",
       "              tensor([-1.3032e-03,  1.0147e-03,  1.9454e-03, -1.0710e-03,  3.2109e-03,\n",
       "                       2.5980e-03,  3.3180e-04,  2.6392e-03, -1.7798e-03,  1.0666e-03,\n",
       "                      -6.0822e-04, -2.8765e-03,  1.9448e-03,  2.8903e-03, -4.4031e-04,\n",
       "                       4.5602e-03, -1.2368e-03, -2.9166e-04, -1.8219e-03, -1.6067e-03,\n",
       "                      -4.9659e-03,  3.1634e-04,  2.7144e-03,  3.3262e-03,  2.1992e-04,\n",
       "                       4.3401e-03, -3.8379e-03,  7.0797e-04,  1.5494e-04, -1.0222e-03,\n",
       "                       3.2947e-04,  2.7852e-03,  9.4723e-04,  4.9693e-03, -3.7578e-04,\n",
       "                       2.1430e-03, -3.0242e-03,  3.3202e-03,  4.2336e-04,  1.2864e-03,\n",
       "                       1.0066e-03, -1.1214e-03, -1.4921e-03,  6.7175e-03, -9.9381e-04,\n",
       "                      -2.2061e-03,  5.5492e-04,  8.2616e-05, -2.6793e-03, -1.1224e-03,\n",
       "                       1.7859e-03, -2.3945e-03, -1.6985e-04, -8.6321e-04,  2.6915e-03,\n",
       "                       5.7348e-03, -4.3778e-03,  1.5250e-03, -1.4059e-04, -1.3966e-04,\n",
       "                       2.5808e-03,  2.3755e-03,  1.7111e-03,  1.4608e-03], device='cuda:0')),\n",
       "             ('mlp_extractor.value_net.0.weight',\n",
       "              tensor([[ 0.0099, -0.0689,  0.0165,  ..., -0.0371, -0.0853,  0.0049],\n",
       "                      [ 0.1223, -0.1063,  0.0862,  ...,  0.1676,  0.0895, -0.1191],\n",
       "                      [-0.0464,  0.1348,  0.2604,  ..., -0.0292, -0.0249,  0.0645],\n",
       "                      ...,\n",
       "                      [ 0.0173,  0.0769,  0.0131,  ...,  0.0304, -0.0005,  0.0727],\n",
       "                      [-0.0740, -0.1008, -0.0635,  ..., -0.0576, -0.0191, -0.0748],\n",
       "                      [-0.1439,  0.1101, -0.0345,  ...,  0.1131,  0.0139,  0.0744]],\n",
       "                     device='cuda:0')),\n",
       "             ('mlp_extractor.value_net.0.bias',\n",
       "              tensor([-5.2643e-03,  5.9880e-03,  6.7328e-03, -1.7493e-03, -8.3233e-03,\n",
       "                       9.1938e-03,  2.8606e-03, -2.0729e-03,  1.9420e-03, -3.3283e-03,\n",
       "                      -3.0814e-04, -2.9364e-03, -2.9720e-03,  4.4298e-03, -2.2453e-03,\n",
       "                      -6.4937e-03,  3.4478e-03,  7.0926e-03, -1.1791e-02, -7.7092e-03,\n",
       "                      -1.0871e-02, -4.3942e-03,  1.2307e-02, -2.6846e-03, -5.7338e-03,\n",
       "                      -5.8950e-03,  8.1254e-03,  2.7296e-03, -5.7102e-03, -1.8847e-03,\n",
       "                       3.1248e-03, -2.6748e-03, -9.3517e-03, -1.1284e-03,  2.1338e-03,\n",
       "                      -3.6834e-03,  3.3067e-03, -6.5465e-03, -1.0050e-02, -8.2585e-03,\n",
       "                       7.6041e-03,  1.8801e-03,  7.2161e-03,  2.2839e-03, -3.6740e-03,\n",
       "                       1.3370e-03, -1.0416e-02, -3.3276e-03, -8.7932e-03,  5.1586e-03,\n",
       "                      -5.1921e-03,  1.3976e-03,  9.9059e-04,  1.1775e-02,  7.2641e-05,\n",
       "                      -1.9549e-03,  5.3233e-03, -5.8718e-04,  6.4167e-03, -1.5146e-02,\n",
       "                      -4.7225e-03, -6.3733e-03, -1.1856e-02, -5.6054e-03], device='cuda:0')),\n",
       "             ('mlp_extractor.value_net.2.weight',\n",
       "              tensor([[ 0.1376, -0.0824,  0.1668,  ..., -0.0171, -0.0162,  0.0668],\n",
       "                      [ 0.0408,  0.0843, -0.1935,  ...,  0.0939, -0.0780,  0.0590],\n",
       "                      [ 0.0924, -0.0434,  0.0181,  ...,  0.2361, -0.0748,  0.2486],\n",
       "                      ...,\n",
       "                      [-0.0802, -0.3371, -0.0687,  ...,  0.1523, -0.0642,  0.0008],\n",
       "                      [ 0.4957,  0.0764,  0.0567,  ..., -0.1748,  0.2596, -0.1851],\n",
       "                      [-0.1360, -0.2544,  0.1315,  ...,  0.2422,  0.2871,  0.2314]],\n",
       "                     device='cuda:0')),\n",
       "             ('mlp_extractor.value_net.2.bias',\n",
       "              tensor([-0.0927,  0.1023, -0.1038,  0.0989,  0.0980,  0.1186,  0.1294,  0.1060,\n",
       "                      -0.1080,  0.0133, -0.1031,  0.0949, -0.1004, -0.1000, -0.0993,  0.0966,\n",
       "                      -0.0966, -0.0921, -0.0953, -0.0926, -0.0996,  0.0948,  0.0970,  0.0954,\n",
       "                      -0.1017,  0.0914,  0.1046, -0.1027, -0.1014, -0.1058,  0.1067, -0.1020,\n",
       "                      -0.0943,  0.0962, -0.0936, -0.1045, -0.1216, -0.0963, -0.0990,  0.1007,\n",
       "                      -0.1020,  0.1020,  0.1104, -0.1151, -0.0950,  0.0941,  0.0957, -0.0984,\n",
       "                       0.0995, -0.0981,  0.0997, -0.0973,  0.1007, -0.1156, -0.1053, -0.1155,\n",
       "                      -0.1042,  0.0988, -0.0945,  0.0959,  0.0959,  0.1015, -0.0959, -0.0970],\n",
       "                     device='cuda:0')),\n",
       "             ('action_net.weight',\n",
       "              tensor([[ 6.6748e-04, -1.3741e-02, -1.5812e-02, -2.4551e-02, -2.0398e-02,\n",
       "                       -2.7328e-02,  2.6155e-03, -1.9026e-02, -3.2148e-03, -1.5139e-02,\n",
       "                        3.2006e-03,  1.7869e-02, -4.1587e-02,  2.9967e-02, -8.6770e-03,\n",
       "                       -3.9890e-02, -5.3199e-03, -5.6957e-03, -2.7172e-02, -5.0824e-03,\n",
       "                       -7.7676e-03,  1.6353e-02, -1.3558e-02, -3.4900e-02,  1.9706e-03,\n",
       "                       -3.4825e-02,  1.2694e-02, -2.2147e-02, -7.0802e-03, -9.6260e-03,\n",
       "                       -6.7320e-03, -2.1683e-02, -3.3010e-03, -1.6035e-02,  2.7310e-02,\n",
       "                        1.3464e-02, -2.6245e-02, -1.0420e-02,  1.9286e-02,  8.5414e-03,\n",
       "                        3.2042e-02, -1.1987e-02,  2.3982e-02, -2.8271e-04, -5.0430e-02,\n",
       "                        8.7829e-03, -5.1651e-03, -1.9400e-02,  8.0839e-03,  2.1904e-02,\n",
       "                       -1.4651e-02,  2.7934e-02,  1.0527e-02,  5.2005e-03,  1.8334e-02,\n",
       "                       -2.5842e-02,  2.9428e-02, -4.8952e-03, -1.5496e-02, -7.5656e-03,\n",
       "                       -1.6882e-02,  9.1337e-03,  1.9777e-02,  1.0378e-02],\n",
       "                      [-3.1122e-04,  4.8008e-03,  3.4868e-02,  7.4410e-03,  1.6895e-02,\n",
       "                        2.1026e-02, -2.0645e-03, -6.5647e-04, -6.8134e-03,  7.2419e-03,\n",
       "                       -2.4829e-02,  1.5597e-02,  3.7175e-02,  6.9886e-03,  5.0153e-05,\n",
       "                        3.9580e-02,  1.1410e-02, -5.1449e-03,  1.5660e-02,  6.1093e-03,\n",
       "                       -3.9845e-02, -1.0104e-02,  2.1248e-02,  4.2436e-03, -2.0170e-02,\n",
       "                        1.2455e-02, -1.9982e-02,  1.3561e-02,  2.5850e-03, -1.2446e-02,\n",
       "                        3.9000e-03, -8.7285e-03, -2.1279e-03,  3.0001e-02, -2.4050e-02,\n",
       "                       -2.0767e-02, -1.8785e-02,  6.2484e-03,  1.1319e-02,  6.8981e-03,\n",
       "                       -1.3931e-02, -1.6780e-02, -1.0241e-02,  1.9337e-02,  6.2993e-03,\n",
       "                       -1.9439e-02,  2.5371e-02,  2.3140e-02,  1.4084e-02, -1.3351e-02,\n",
       "                        9.4674e-03, -1.0387e-02,  2.0603e-02, -1.0379e-02, -5.1130e-03,\n",
       "                        4.5878e-02, -3.5729e-02,  1.6115e-02, -3.8669e-03, -8.2876e-03,\n",
       "                        1.5726e-02,  1.1714e-02,  1.1200e-02, -1.2452e-02],\n",
       "                      [ 2.8174e-03,  5.1156e-03, -4.8565e-04,  1.7237e-02, -8.9394e-03,\n",
       "                        1.7658e-02, -1.3263e-02, -9.0502e-03,  2.7779e-02,  1.4146e-02,\n",
       "                       -8.0607e-03, -1.5324e-02, -1.9246e-02,  3.9548e-03,  8.1709e-03,\n",
       "                       -1.1112e-02,  3.2361e-02,  8.6753e-03,  3.4790e-02,  3.2109e-02,\n",
       "                        1.0031e-02, -5.3699e-03,  2.1478e-03, -3.5088e-03, -8.0771e-03,\n",
       "                        2.9390e-02,  3.1871e-02,  8.6813e-03, -1.1056e-02,  6.7210e-03,\n",
       "                       -1.3999e-03,  6.6324e-03, -9.0981e-03,  1.8067e-02,  1.3966e-02,\n",
       "                       -2.9169e-02,  2.7319e-02, -1.0852e-02,  2.0184e-03, -1.5609e-02,\n",
       "                       -3.8942e-02,  1.1076e-02,  2.8543e-02, -4.1889e-02,  4.6271e-02,\n",
       "                       -7.1154e-04, -2.3817e-02, -5.6038e-03,  1.1100e-03, -1.5298e-02,\n",
       "                        1.3578e-02, -1.5796e-02, -2.0395e-02, -5.7947e-03,  3.5965e-02,\n",
       "                       -1.2788e-02,  1.8566e-03, -7.2477e-03,  2.1139e-03,  1.6141e-02,\n",
       "                       -2.1137e-02, -1.2703e-02, -4.1013e-02, -2.8906e-02],\n",
       "                      [-5.7319e-03,  2.4653e-03, -1.6241e-02,  4.8250e-03,  1.3838e-02,\n",
       "                       -1.0229e-02,  9.3665e-03,  2.6513e-02, -1.7686e-02, -4.7442e-03,\n",
       "                        2.5408e-02, -1.4780e-02,  1.8191e-02, -3.6048e-02,  4.2617e-03,\n",
       "                        1.8071e-02, -3.3842e-02,  4.6121e-04, -2.0698e-02, -3.0048e-02,\n",
       "                        2.9853e-02,  3.4218e-03, -7.6859e-03,  3.5264e-02,  2.3769e-02,\n",
       "                        3.9835e-04, -2.6696e-02, -2.2736e-03,  1.3301e-02,  1.4705e-02,\n",
       "                        2.6129e-03,  2.1140e-02,  1.1836e-02, -1.9412e-02, -1.8420e-02,\n",
       "                        2.7108e-02,  1.2572e-02,  1.1991e-02, -2.4313e-02,  2.8747e-03,\n",
       "                        1.5398e-02,  1.1506e-02, -3.4981e-02,  1.9127e-02,  5.9624e-03,\n",
       "                        9.4413e-03,  5.0643e-03,  2.0302e-03, -2.2066e-02,  5.6276e-03,\n",
       "                       -1.1340e-02, -6.7554e-04, -1.0364e-02,  4.2487e-03, -3.6685e-02,\n",
       "                       -1.1768e-02,  7.1130e-04, -4.2611e-04,  1.9371e-02,  1.7638e-03,\n",
       "                        2.0105e-02, -7.1485e-03,  9.1479e-03,  2.2370e-02]], device='cuda:0')),\n",
       "             ('action_net.bias',\n",
       "              tensor([-0.0130,  0.0117, -0.0165,  0.0175], device='cuda:0')),\n",
       "             ('value_net.weight',\n",
       "              tensor([[-0.0741,  0.0836, -0.1503,  0.3066,  0.1353,  0.0567,  0.0580,  0.1345,\n",
       "                       -0.0904,  0.0206, -0.1127,  0.0900, -0.2270, -0.1793, -0.1686,  0.2963,\n",
       "                       -0.1409, -0.0619, -0.3620, -0.0964, -0.0853,  0.1367,  0.3485,  0.0735,\n",
       "                       -0.0455,  0.1172,  0.1851, -0.1910, -0.1055, -0.0671,  0.1257, -0.1553,\n",
       "                       -0.0624,  0.0991, -0.1026, -0.0518, -0.0837, -0.1930, -0.1945,  0.2057,\n",
       "                       -0.1976,  0.1550,  0.1212, -0.0825, -0.1249,  0.0900,  0.3142, -0.2266,\n",
       "                        0.1602, -0.0630,  0.2062, -0.1386,  0.0799, -0.0719, -0.1045, -0.0839,\n",
       "                       -0.0534,  0.1076, -0.0781,  0.1529,  0.2647,  0.0672, -0.1951, -0.2341]],\n",
       "                     device='cuda:0')),\n",
       "             ('value_net.bias', tensor([0.0994], device='cuda:0'))])"
      ]
     },
     "execution_count": 100,
     "metadata": {},
     "output_type": "execute_result"
    }
   ],
   "source": [
    "model"
   ]
  },
  {
   "cell_type": "code",
   "execution_count": 7,
   "id": "czech-adams",
   "metadata": {},
   "outputs": [],
   "source": [
    "def get_geese_observation(state):\n",
    "    \"\"\"\n",
    "    Given a particular geese, does some processing and returns a geese specific observation. \n",
    "    Unfortunately specific to the geese environment for now.\n",
    "    Encoding as follows: \n",
    "    2: enemy snake head\n",
    "    1: enemy snake body\n",
    "    11: own head\n",
    "    12: own body\n",
    "    100: food\n",
    "    \"\"\"\n",
    "\n",
    "    if type(state) is list:\n",
    "        state = state[0].observation\n",
    "    else:\n",
    "\n",
    "        state = Observation(state)\n",
    "\n",
    "    \n",
    "    agent = state.index\n",
    "    rows = 7\n",
    "    columns = 11\n",
    "    game_board_self = np.zeros(rows*columns, None)\n",
    "    game_board_enemy = np.zeros(rows*columns, None)\n",
    "    game_board_food = np.zeros(rows*columns, None)\n",
    "\n",
    "\n",
    "    for i, geese in enumerate(state.geese):\n",
    "        identify=0\n",
    "        if i==agent:\n",
    "            identify=100\n",
    "            for j, cell in enumerate(geese):\n",
    "                if j == 0:\n",
    "                    game_board_self[cell] = identify+1\n",
    "                else:\n",
    "                    game_board_self[cell] = identify+2\n",
    "        else:\n",
    "            identify=-100\n",
    "            for j, cell in enumerate(geese):\n",
    "                if j == 0:\n",
    "                    game_board_enemy[cell] = identify+1\n",
    "                else:\n",
    "                    game_board_enemy[cell] = identify+2\n",
    "\n",
    "    for food in state.food:\n",
    "        game_board_food[food] = 1000\n",
    "    game_board_self = game_board_self.reshape([rows, columns])\n",
    "    game_board_enemy = game_board_enemy.reshape([rows, columns])\n",
    "    game_board_food = game_board_food.reshape([rows, columns])\n",
    "\n",
    "    head = get_geese_coord(game_board_self)[0]\n",
    "\n",
    "\n",
    "    game_board_self = np.roll(game_board_self, 5-head[1], axis=1)\n",
    "    game_board_self = np.roll(game_board_self, 3-head[0], axis=0)\n",
    "    game_board_enemy = np.roll(game_board_enemy, 5-head[1], axis=1)\n",
    "    game_board_enemy = np.roll(game_board_enemy, 3-head[0], axis=0)\n",
    "    game_board_food = np.roll(game_board_food, 5-head[1], axis=1)\n",
    "    game_board_food = np.roll(game_board_food, 3-head[0], axis=0)\n",
    "\n",
    "    #game_board = game_board.reshape((game_board.shape[0], game_board.shape[1], 1))\n",
    "    game_board = np.dstack((game_board_self, game_board_enemy, game_board_food))\n",
    "    return game_board\n",
    "\n",
    "def get_geese_coord(board):\n",
    "    return get_coord_from_np_grid(board, 101)\n",
    "\n",
    "def get_food_coord(board):\n",
    "    return get_coord_from_np_grid(board, 1000)\n",
    "\n",
    "def get_enemy_geese_head_coord(board):\n",
    "    return get_coord_from_np_grid(board, -99)\n",
    "\n",
    "\n",
    "def get_coord_from_np_grid(grid, value):\n",
    "    coords = []\n",
    "    for i in range(0, len(np.where(grid==value)[0])):\n",
    "        coords.append((np.where(grid==value)[0][i], np.where(grid==value)[1][i]))\n",
    "    return coords\n"
   ]
  },
  {
   "cell_type": "code",
   "execution_count": 8,
   "id": "representative-bulgaria",
   "metadata": {},
   "outputs": [
    {
     "ename": "NameError",
     "evalue": "name 'state_dict' is not defined",
     "output_type": "error",
     "traceback": [
      "\u001b[0;31m---------------------------------------------------------------------------\u001b[0m",
      "\u001b[0;31mNameError\u001b[0m                                 Traceback (most recent call last)",
      "\u001b[0;32m<ipython-input-8-d73f4238a28b>\u001b[0m in \u001b[0;36m<module>\u001b[0;34m\u001b[0m\n\u001b[1;32m      1\u001b[0m state_dict = {\n\u001b[0;32m----> 2\u001b[0;31m     \u001b[0;34m'conv1.weight'\u001b[0m\u001b[0;34m:\u001b[0m \u001b[0mstate_dict\u001b[0m\u001b[0;34m[\u001b[0m\u001b[0;34m'features_extractor.conv1.weight'\u001b[0m\u001b[0;34m]\u001b[0m\u001b[0;34m,\u001b[0m\u001b[0;34m\u001b[0m\u001b[0;34m\u001b[0m\u001b[0m\n\u001b[0m\u001b[1;32m      3\u001b[0m     \u001b[0;34m'conv1.bias'\u001b[0m\u001b[0;34m:\u001b[0m \u001b[0mstate_dict\u001b[0m\u001b[0;34m[\u001b[0m\u001b[0;34m'features_extractor.conv1.bias'\u001b[0m\u001b[0;34m]\u001b[0m\u001b[0;34m,\u001b[0m\u001b[0;34m\u001b[0m\u001b[0;34m\u001b[0m\u001b[0m\n\u001b[1;32m      4\u001b[0m     \u001b[0;34m'conv2.weight'\u001b[0m\u001b[0;34m:\u001b[0m \u001b[0mstate_dict\u001b[0m\u001b[0;34m[\u001b[0m\u001b[0;34m'features_extractor.conv2.weight'\u001b[0m\u001b[0;34m]\u001b[0m\u001b[0;34m,\u001b[0m\u001b[0;34m\u001b[0m\u001b[0;34m\u001b[0m\u001b[0m\n\u001b[1;32m      5\u001b[0m     \u001b[0;34m'conv2.bias'\u001b[0m\u001b[0;34m:\u001b[0m \u001b[0mstate_dict\u001b[0m\u001b[0;34m[\u001b[0m\u001b[0;34m'features_extractor.conv2.bias'\u001b[0m\u001b[0;34m]\u001b[0m\u001b[0;34m,\u001b[0m\u001b[0;34m\u001b[0m\u001b[0;34m\u001b[0m\u001b[0m\n",
      "\u001b[0;31mNameError\u001b[0m: name 'state_dict' is not defined"
     ]
    }
   ],
   "source": [
    "state_dict = {\n",
    "    'conv1.weight': state_dict['features_extractor.conv1.weight'],\n",
    "    'conv1.bias': state_dict['features_extractor.conv1.bias'],\n",
    "    'conv2.weight': state_dict['features_extractor.conv2.weight'],\n",
    "    'conv2.bias': state_dict['features_extractor.conv2.bias'],\n",
    "    'fc3.weight': state_dict['features_extractor.fc3.weight'],\n",
    "    'fc3.bias': state_dict['features_extractor.fc3.bias'],\n",
    "\n",
    "    'shared1.weight': state_dict['mlp_extractor.shared_net.0.weight'],\n",
    "    'shared1.bias': state_dict['mlp_extractor.shared_net.0.bias'],\n",
    "\n",
    "    'policy1.weight': state_dict['mlp_extractor.policy_net.0.weight'],\n",
    "    'policy1.bias': state_dict['mlp_extractor.policy_net.0.bias'],\n",
    "    'policy2.weight': state_dict['mlp_extractor.policy_net.2.weight'],\n",
    "    'policy2.bias': state_dict['mlp_extractor.policy_net.2.bias'],\n",
    "\n",
    "    'action.weight': state_dict['action_net.weight'],\n",
    "    'action.bias': state_dict['action_net.bias'],\n",
    "}"
   ]
  },
  {
   "cell_type": "code",
   "execution_count": 131,
   "id": "monthly-processor",
   "metadata": {},
   "outputs": [],
   "source": [
    "def agent(obs, config):\n",
    "    model = Net()\n",
    "    model = model.float()\n",
    "    state_dict = th.load('best_pytorch_model')\n",
    "    state_dict = {\n",
    "        'policy1.weight': state_dict['mlp_extractor.policy_net.0.weight'],\n",
    "        'policy1.bias': state_dict['mlp_extractor.policy_net.0.bias'],\n",
    "        'policy2.weight': state_dict['mlp_extractor.policy_net.2.weight'],\n",
    "        'policy2.bias': state_dict['mlp_extractor.policy_net.2.bias'],\n",
    "        'action.weight': state_dict['action_net.weight'],\n",
    "        'action.bias': state_dict['action_net.bias'],\n",
    "    }\n",
    "    model.load_state_dict(state_dict)\n",
    "    model.eval()\n",
    "    obs = tensor(get_geese_observation(obs)).reshape(1, 7, 11, 3).float()\n",
    "    action = model(obs)\n",
    "    print(action)\n",
    "    return int(action)"
   ]
  },
  {
   "cell_type": "code",
   "execution_count": 10,
   "id": "double-mounting",
   "metadata": {},
   "outputs": [
    {
     "name": "stdout",
     "output_type": "stream",
     "text": [
      "Loading environment football failed: No module named 'gfootball'\n"
     ]
    }
   ],
   "source": [
    "from GeeseGymWrapper import HungryGeeseKaggle"
   ]
  },
  {
   "cell_type": "code",
   "execution_count": 80,
   "id": "caring-respect",
   "metadata": {},
   "outputs": [],
   "source": [
    "env = HungryGeeseKaggle()"
   ]
  },
  {
   "cell_type": "code",
   "execution_count": 86,
   "id": "changed-jesus",
   "metadata": {},
   "outputs": [
    {
     "data": {
      "text/plain": [
       "[{'action': 'NORTH',\n",
       "  'reward': 0,\n",
       "  'info': {},\n",
       "  'observation': {'remainingOverageTime': 60,\n",
       "   'step': 0,\n",
       "   'geese': [[42], [39], [51], [41]],\n",
       "   'food': [29, 13],\n",
       "   'index': 0},\n",
       "  'status': 'ACTIVE'},\n",
       " {'action': 'NORTH',\n",
       "  'reward': 0,\n",
       "  'info': {},\n",
       "  'observation': {'remainingOverageTime': 60, 'index': 1},\n",
       "  'status': 'ACTIVE'},\n",
       " {'action': 'NORTH',\n",
       "  'reward': 0,\n",
       "  'info': {},\n",
       "  'observation': {'remainingOverageTime': 60, 'index': 2},\n",
       "  'status': 'ACTIVE'},\n",
       " {'action': 'NORTH',\n",
       "  'reward': 0,\n",
       "  'info': {},\n",
       "  'observation': {'remainingOverageTime': 60, 'index': 3},\n",
       "  'status': 'ACTIVE'}]"
      ]
     },
     "execution_count": 86,
     "metadata": {},
     "output_type": "execute_result"
    }
   ],
   "source": [
    "env.env.reset(num_agents=4)"
   ]
  },
  {
   "cell_type": "code",
   "execution_count": 132,
   "id": "checked-father",
   "metadata": {},
   "outputs": [
    {
     "ename": "AttributeError",
     "evalue": "'HungryGeeseKaggle' object has no attribute 'state'",
     "output_type": "error",
     "traceback": [
      "\u001b[0;31m---------------------------------------------------------------------------\u001b[0m",
      "\u001b[0;31mAttributeError\u001b[0m                            Traceback (most recent call last)",
      "\u001b[0;32m<ipython-input-132-4d9ead746129>\u001b[0m in \u001b[0;36m<module>\u001b[0;34m\u001b[0m\n\u001b[0;32m----> 1\u001b[0;31m \u001b[0mobs\u001b[0m \u001b[0;34m=\u001b[0m \u001b[0menv\u001b[0m\u001b[0;34m.\u001b[0m\u001b[0menv\u001b[0m\u001b[0;34m.\u001b[0m\u001b[0mstate\u001b[0m\u001b[0;34m\u001b[0m\u001b[0;34m\u001b[0m\u001b[0m\n\u001b[0m",
      "\u001b[0;31mAttributeError\u001b[0m: 'HungryGeeseKaggle' object has no attribute 'state'"
     ]
    }
   ],
   "source": [
    "obs = env.env.state"
   ]
  },
  {
   "cell_type": "code",
   "execution_count": 88,
   "id": "moved-eugene",
   "metadata": {},
   "outputs": [
    {
     "data": {
      "text/plain": [
       "[{'action': 'NORTH',\n",
       "  'reward': 0,\n",
       "  'info': {},\n",
       "  'observation': {'remainingOverageTime': 60,\n",
       "   'step': 0,\n",
       "   'geese': [[42], [39], [51], [41]],\n",
       "   'food': [29, 13],\n",
       "   'index': 0},\n",
       "  'status': 'ACTIVE'},\n",
       " {'action': 'NORTH',\n",
       "  'reward': 0,\n",
       "  'info': {},\n",
       "  'observation': {'remainingOverageTime': 60, 'index': 1},\n",
       "  'status': 'ACTIVE'},\n",
       " {'action': 'NORTH',\n",
       "  'reward': 0,\n",
       "  'info': {},\n",
       "  'observation': {'remainingOverageTime': 60, 'index': 2},\n",
       "  'status': 'ACTIVE'},\n",
       " {'action': 'NORTH',\n",
       "  'reward': 0,\n",
       "  'info': {},\n",
       "  'observation': {'remainingOverageTime': 60, 'index': 3},\n",
       "  'status': 'ACTIVE'}]"
      ]
     },
     "execution_count": 88,
     "metadata": {},
     "output_type": "execute_result"
    }
   ],
   "source": [
    "obs"
   ]
  },
  {
   "cell_type": "code",
   "execution_count": 14,
   "id": "interim-possible",
   "metadata": {},
   "outputs": [],
   "source": [
    "config = {}"
   ]
  },
  {
   "cell_type": "code",
   "execution_count": 134,
   "id": "healthy-tattoo",
   "metadata": {},
   "outputs": [
    {
     "name": "stdout",
     "output_type": "stream",
     "text": [
      "tensor(2)\n"
     ]
    },
    {
     "data": {
      "text/plain": [
       "2"
      ]
     },
     "execution_count": 134,
     "metadata": {},
     "output_type": "execute_result"
    }
   ],
   "source": [
    "agent(obs, config)"
   ]
  },
  {
   "cell_type": "code",
   "execution_count": null,
   "id": "efficient-triumph",
   "metadata": {},
   "outputs": [],
   "source": [
    "import os\n",
    "os.listdir()"
   ]
  },
  {
   "cell_type": "code",
   "execution_count": null,
   "id": "intended-owner",
   "metadata": {},
   "outputs": [],
   "source": [
    "path = os.getcwd()"
   ]
  },
  {
   "cell_type": "code",
   "execution_count": null,
   "id": "located-prototype",
   "metadata": {},
   "outputs": [],
   "source": [
    "path"
   ]
  },
  {
   "cell_type": "code",
   "execution_count": 127,
   "id": "sacred-morrison",
   "metadata": {},
   "outputs": [
    {
     "name": "stdout",
     "output_type": "stream",
     "text": [
      "Using cuda device\n",
      "Wrapping the env in a DummyVecEnv.\n"
     ]
    }
   ],
   "source": [
    "# Check that if I load the same model from stable baselines I get the same output\n",
    "from stable_baselines3 import PPO\n",
    "from stable_baselines3.common.monitor import Monitor\n",
    "\n",
    "log_dir = \"tmp/\"\n",
    "env = HungryGeeseKaggle()\n",
    "env = Monitor(env, log_dir)\n",
    "model = PPO('MlpPolicy', env, verbose=1)\n",
    "\n"
   ]
  },
  {
   "cell_type": "code",
   "execution_count": 128,
   "id": "equipped-conversation",
   "metadata": {},
   "outputs": [],
   "source": [
    "model = model.load('best_model.zip')"
   ]
  },
  {
   "cell_type": "code",
   "execution_count": 129,
   "id": "romance-asbestos",
   "metadata": {},
   "outputs": [
    {
     "data": {
      "text/plain": [
       "[{'action': 'NORTH',\n",
       "  'reward': 0,\n",
       "  'info': {},\n",
       "  'observation': {'remainingOverageTime': 60,\n",
       "   'step': 0,\n",
       "   'geese': [[42], [39], [51], [41]],\n",
       "   'food': [29, 13],\n",
       "   'index': 0},\n",
       "  'status': 'ACTIVE'},\n",
       " {'action': 'NORTH',\n",
       "  'reward': 0,\n",
       "  'info': {},\n",
       "  'observation': {'remainingOverageTime': 60, 'index': 1},\n",
       "  'status': 'ACTIVE'},\n",
       " {'action': 'NORTH',\n",
       "  'reward': 0,\n",
       "  'info': {},\n",
       "  'observation': {'remainingOverageTime': 60, 'index': 2},\n",
       "  'status': 'ACTIVE'},\n",
       " {'action': 'NORTH',\n",
       "  'reward': 0,\n",
       "  'info': {},\n",
       "  'observation': {'remainingOverageTime': 60, 'index': 3},\n",
       "  'status': 'ACTIVE'}]"
      ]
     },
     "execution_count": 129,
     "metadata": {},
     "output_type": "execute_result"
    }
   ],
   "source": [
    "obs"
   ]
  },
  {
   "cell_type": "code",
   "execution_count": 130,
   "id": "persistent-academy",
   "metadata": {},
   "outputs": [
    {
     "data": {
      "text/plain": [
       "(2, None)"
      ]
     },
     "execution_count": 130,
     "metadata": {},
     "output_type": "execute_result"
    }
   ],
   "source": [
    "model.policy.predict(get_geese_observation(obs), deterministic=True)"
   ]
  },
  {
   "cell_type": "code",
   "execution_count": 121,
   "id": "lasting-blackberry",
   "metadata": {},
   "outputs": [
    {
     "data": {
      "text/plain": [
       "OrderedDict([('mlp_extractor.policy_net.0.weight',\n",
       "              tensor([[-0.1451, -0.0613, -0.1015,  ..., -0.1770,  0.0284,  0.0035],\n",
       "                      [-0.0029, -0.0002, -0.0300,  ...,  0.1078,  0.0113, -0.0608],\n",
       "                      [ 0.0983,  0.0087,  0.0754,  ...,  0.0177, -0.0246, -0.0696],\n",
       "                      ...,\n",
       "                      [ 0.0118,  0.1192, -0.0972,  ...,  0.1197, -0.0740,  0.0981],\n",
       "                      [ 0.0280, -0.0479,  0.1426,  ...,  0.0137, -0.0828, -0.1245],\n",
       "                      [-0.1264,  0.1727, -0.0023,  ..., -0.2118, -0.0293, -0.0548]],\n",
       "                     device='cuda:0')),\n",
       "             ('mlp_extractor.policy_net.0.bias',\n",
       "              tensor([ 1.0918e-04,  3.1626e-05,  5.7694e-05, -4.9769e-06,  1.0920e-05,\n",
       "                       2.0709e-05, -4.7005e-06,  5.1650e-05,  1.9498e-05,  1.1115e-05,\n",
       "                      -4.3169e-05, -1.2275e-05, -3.6334e-05, -2.7966e-05,  3.6487e-05,\n",
       "                      -7.9229e-06, -4.3484e-05,  1.3143e-05,  4.5730e-05,  1.9350e-05,\n",
       "                       6.1795e-06,  1.6157e-05, -1.7471e-05,  8.8466e-05, -4.1949e-06,\n",
       "                       7.4423e-05,  2.9543e-06,  1.5461e-05, -8.2895e-06,  5.4254e-07,\n",
       "                      -1.0695e-04, -2.4130e-05, -7.0191e-06,  4.1858e-05, -1.1172e-05,\n",
       "                       2.9876e-06,  2.0844e-05,  3.2972e-06,  3.8727e-05, -1.8966e-05,\n",
       "                      -9.9022e-06,  4.4085e-05, -1.0243e-05,  2.8020e-05,  1.1069e-05,\n",
       "                       2.6351e-05,  1.9084e-05,  6.7531e-05, -1.8817e-04, -3.0076e-05,\n",
       "                       2.0506e-05, -1.3892e-05,  2.1757e-05, -1.2943e-04, -1.3195e-06,\n",
       "                       1.5524e-05,  8.9909e-06, -2.8567e-06, -1.5467e-05,  5.3032e-05,\n",
       "                       2.4617e-05, -5.4881e-05,  3.0553e-05,  5.9353e-05], device='cuda:0')),\n",
       "             ('mlp_extractor.policy_net.2.weight',\n",
       "              tensor([[-0.0213,  0.3274, -0.0984,  ..., -0.1549, -0.2022, -0.1005],\n",
       "                      [-0.0319, -0.0173,  0.1701,  ..., -0.1067, -0.1662, -0.0213],\n",
       "                      [-0.0077, -0.3234, -0.0429,  ...,  0.1536, -0.2863,  0.2678],\n",
       "                      ...,\n",
       "                      [-0.2155,  0.1311,  0.0748,  ..., -0.0863, -0.0571,  0.1584],\n",
       "                      [ 0.1996,  0.1041, -0.0784,  ...,  0.1975,  0.2531,  0.0619],\n",
       "                      [ 0.1050,  0.0314,  0.0532,  ..., -0.0486,  0.1008,  0.1753]],\n",
       "                     device='cuda:0')),\n",
       "             ('mlp_extractor.policy_net.2.bias',\n",
       "              tensor([-1.3032e-03,  1.0147e-03,  1.9454e-03, -1.0710e-03,  3.2109e-03,\n",
       "                       2.5980e-03,  3.3180e-04,  2.6392e-03, -1.7798e-03,  1.0666e-03,\n",
       "                      -6.0822e-04, -2.8765e-03,  1.9448e-03,  2.8903e-03, -4.4031e-04,\n",
       "                       4.5602e-03, -1.2368e-03, -2.9166e-04, -1.8219e-03, -1.6067e-03,\n",
       "                      -4.9659e-03,  3.1634e-04,  2.7144e-03,  3.3262e-03,  2.1992e-04,\n",
       "                       4.3401e-03, -3.8379e-03,  7.0797e-04,  1.5494e-04, -1.0222e-03,\n",
       "                       3.2947e-04,  2.7852e-03,  9.4723e-04,  4.9693e-03, -3.7578e-04,\n",
       "                       2.1430e-03, -3.0242e-03,  3.3202e-03,  4.2336e-04,  1.2864e-03,\n",
       "                       1.0066e-03, -1.1214e-03, -1.4921e-03,  6.7175e-03, -9.9381e-04,\n",
       "                      -2.2061e-03,  5.5492e-04,  8.2616e-05, -2.6793e-03, -1.1224e-03,\n",
       "                       1.7859e-03, -2.3945e-03, -1.6985e-04, -8.6321e-04,  2.6915e-03,\n",
       "                       5.7348e-03, -4.3778e-03,  1.5250e-03, -1.4059e-04, -1.3966e-04,\n",
       "                       2.5808e-03,  2.3755e-03,  1.7111e-03,  1.4608e-03], device='cuda:0')),\n",
       "             ('mlp_extractor.value_net.0.weight',\n",
       "              tensor([[ 0.0099, -0.0689,  0.0165,  ..., -0.0371, -0.0853,  0.0049],\n",
       "                      [ 0.1223, -0.1063,  0.0862,  ...,  0.1676,  0.0895, -0.1191],\n",
       "                      [-0.0464,  0.1348,  0.2604,  ..., -0.0292, -0.0249,  0.0645],\n",
       "                      ...,\n",
       "                      [ 0.0173,  0.0769,  0.0131,  ...,  0.0304, -0.0005,  0.0727],\n",
       "                      [-0.0740, -0.1008, -0.0635,  ..., -0.0576, -0.0191, -0.0748],\n",
       "                      [-0.1439,  0.1101, -0.0345,  ...,  0.1131,  0.0139,  0.0744]],\n",
       "                     device='cuda:0')),\n",
       "             ('mlp_extractor.value_net.0.bias',\n",
       "              tensor([-5.2643e-03,  5.9880e-03,  6.7328e-03, -1.7493e-03, -8.3233e-03,\n",
       "                       9.1938e-03,  2.8606e-03, -2.0729e-03,  1.9420e-03, -3.3283e-03,\n",
       "                      -3.0814e-04, -2.9364e-03, -2.9720e-03,  4.4298e-03, -2.2453e-03,\n",
       "                      -6.4937e-03,  3.4478e-03,  7.0926e-03, -1.1791e-02, -7.7092e-03,\n",
       "                      -1.0871e-02, -4.3942e-03,  1.2307e-02, -2.6846e-03, -5.7338e-03,\n",
       "                      -5.8950e-03,  8.1254e-03,  2.7296e-03, -5.7102e-03, -1.8847e-03,\n",
       "                       3.1248e-03, -2.6748e-03, -9.3517e-03, -1.1284e-03,  2.1338e-03,\n",
       "                      -3.6834e-03,  3.3067e-03, -6.5465e-03, -1.0050e-02, -8.2585e-03,\n",
       "                       7.6041e-03,  1.8801e-03,  7.2161e-03,  2.2839e-03, -3.6740e-03,\n",
       "                       1.3370e-03, -1.0416e-02, -3.3276e-03, -8.7932e-03,  5.1586e-03,\n",
       "                      -5.1921e-03,  1.3976e-03,  9.9059e-04,  1.1775e-02,  7.2641e-05,\n",
       "                      -1.9549e-03,  5.3233e-03, -5.8718e-04,  6.4167e-03, -1.5146e-02,\n",
       "                      -4.7225e-03, -6.3733e-03, -1.1856e-02, -5.6054e-03], device='cuda:0')),\n",
       "             ('mlp_extractor.value_net.2.weight',\n",
       "              tensor([[ 0.1376, -0.0824,  0.1668,  ..., -0.0171, -0.0162,  0.0668],\n",
       "                      [ 0.0408,  0.0843, -0.1935,  ...,  0.0939, -0.0780,  0.0590],\n",
       "                      [ 0.0924, -0.0434,  0.0181,  ...,  0.2361, -0.0748,  0.2486],\n",
       "                      ...,\n",
       "                      [-0.0802, -0.3371, -0.0687,  ...,  0.1523, -0.0642,  0.0008],\n",
       "                      [ 0.4957,  0.0764,  0.0567,  ..., -0.1748,  0.2596, -0.1851],\n",
       "                      [-0.1360, -0.2544,  0.1315,  ...,  0.2422,  0.2871,  0.2314]],\n",
       "                     device='cuda:0')),\n",
       "             ('mlp_extractor.value_net.2.bias',\n",
       "              tensor([-0.0927,  0.1023, -0.1038,  0.0989,  0.0980,  0.1186,  0.1294,  0.1060,\n",
       "                      -0.1080,  0.0133, -0.1031,  0.0949, -0.1004, -0.1000, -0.0993,  0.0966,\n",
       "                      -0.0966, -0.0921, -0.0953, -0.0926, -0.0996,  0.0948,  0.0970,  0.0954,\n",
       "                      -0.1017,  0.0914,  0.1046, -0.1027, -0.1014, -0.1058,  0.1067, -0.1020,\n",
       "                      -0.0943,  0.0962, -0.0936, -0.1045, -0.1216, -0.0963, -0.0990,  0.1007,\n",
       "                      -0.1020,  0.1020,  0.1104, -0.1151, -0.0950,  0.0941,  0.0957, -0.0984,\n",
       "                       0.0995, -0.0981,  0.0997, -0.0973,  0.1007, -0.1156, -0.1053, -0.1155,\n",
       "                      -0.1042,  0.0988, -0.0945,  0.0959,  0.0959,  0.1015, -0.0959, -0.0970],\n",
       "                     device='cuda:0')),\n",
       "             ('action_net.weight',\n",
       "              tensor([[ 6.6748e-04, -1.3741e-02, -1.5812e-02, -2.4551e-02, -2.0398e-02,\n",
       "                       -2.7328e-02,  2.6155e-03, -1.9026e-02, -3.2148e-03, -1.5139e-02,\n",
       "                        3.2006e-03,  1.7869e-02, -4.1587e-02,  2.9967e-02, -8.6770e-03,\n",
       "                       -3.9890e-02, -5.3199e-03, -5.6957e-03, -2.7172e-02, -5.0824e-03,\n",
       "                       -7.7676e-03,  1.6353e-02, -1.3558e-02, -3.4900e-02,  1.9706e-03,\n",
       "                       -3.4825e-02,  1.2694e-02, -2.2147e-02, -7.0802e-03, -9.6260e-03,\n",
       "                       -6.7320e-03, -2.1683e-02, -3.3010e-03, -1.6035e-02,  2.7310e-02,\n",
       "                        1.3464e-02, -2.6245e-02, -1.0420e-02,  1.9286e-02,  8.5414e-03,\n",
       "                        3.2042e-02, -1.1987e-02,  2.3982e-02, -2.8271e-04, -5.0430e-02,\n",
       "                        8.7829e-03, -5.1651e-03, -1.9400e-02,  8.0839e-03,  2.1904e-02,\n",
       "                       -1.4651e-02,  2.7934e-02,  1.0527e-02,  5.2005e-03,  1.8334e-02,\n",
       "                       -2.5842e-02,  2.9428e-02, -4.8952e-03, -1.5496e-02, -7.5656e-03,\n",
       "                       -1.6882e-02,  9.1337e-03,  1.9777e-02,  1.0378e-02],\n",
       "                      [-3.1122e-04,  4.8008e-03,  3.4868e-02,  7.4410e-03,  1.6895e-02,\n",
       "                        2.1026e-02, -2.0645e-03, -6.5647e-04, -6.8134e-03,  7.2419e-03,\n",
       "                       -2.4829e-02,  1.5597e-02,  3.7175e-02,  6.9886e-03,  5.0153e-05,\n",
       "                        3.9580e-02,  1.1410e-02, -5.1449e-03,  1.5660e-02,  6.1093e-03,\n",
       "                       -3.9845e-02, -1.0104e-02,  2.1248e-02,  4.2436e-03, -2.0170e-02,\n",
       "                        1.2455e-02, -1.9982e-02,  1.3561e-02,  2.5850e-03, -1.2446e-02,\n",
       "                        3.9000e-03, -8.7285e-03, -2.1279e-03,  3.0001e-02, -2.4050e-02,\n",
       "                       -2.0767e-02, -1.8785e-02,  6.2484e-03,  1.1319e-02,  6.8981e-03,\n",
       "                       -1.3931e-02, -1.6780e-02, -1.0241e-02,  1.9337e-02,  6.2993e-03,\n",
       "                       -1.9439e-02,  2.5371e-02,  2.3140e-02,  1.4084e-02, -1.3351e-02,\n",
       "                        9.4674e-03, -1.0387e-02,  2.0603e-02, -1.0379e-02, -5.1130e-03,\n",
       "                        4.5878e-02, -3.5729e-02,  1.6115e-02, -3.8669e-03, -8.2876e-03,\n",
       "                        1.5726e-02,  1.1714e-02,  1.1200e-02, -1.2452e-02],\n",
       "                      [ 2.8174e-03,  5.1156e-03, -4.8565e-04,  1.7237e-02, -8.9394e-03,\n",
       "                        1.7658e-02, -1.3263e-02, -9.0502e-03,  2.7779e-02,  1.4146e-02,\n",
       "                       -8.0607e-03, -1.5324e-02, -1.9246e-02,  3.9548e-03,  8.1709e-03,\n",
       "                       -1.1112e-02,  3.2361e-02,  8.6753e-03,  3.4790e-02,  3.2109e-02,\n",
       "                        1.0031e-02, -5.3699e-03,  2.1478e-03, -3.5088e-03, -8.0771e-03,\n",
       "                        2.9390e-02,  3.1871e-02,  8.6813e-03, -1.1056e-02,  6.7210e-03,\n",
       "                       -1.3999e-03,  6.6324e-03, -9.0981e-03,  1.8067e-02,  1.3966e-02,\n",
       "                       -2.9169e-02,  2.7319e-02, -1.0852e-02,  2.0184e-03, -1.5609e-02,\n",
       "                       -3.8942e-02,  1.1076e-02,  2.8543e-02, -4.1889e-02,  4.6271e-02,\n",
       "                       -7.1154e-04, -2.3817e-02, -5.6038e-03,  1.1100e-03, -1.5298e-02,\n",
       "                        1.3578e-02, -1.5796e-02, -2.0395e-02, -5.7947e-03,  3.5965e-02,\n",
       "                       -1.2788e-02,  1.8566e-03, -7.2477e-03,  2.1139e-03,  1.6141e-02,\n",
       "                       -2.1137e-02, -1.2703e-02, -4.1013e-02, -2.8906e-02],\n",
       "                      [-5.7319e-03,  2.4653e-03, -1.6241e-02,  4.8250e-03,  1.3838e-02,\n",
       "                       -1.0229e-02,  9.3665e-03,  2.6513e-02, -1.7686e-02, -4.7442e-03,\n",
       "                        2.5408e-02, -1.4780e-02,  1.8191e-02, -3.6048e-02,  4.2617e-03,\n",
       "                        1.8071e-02, -3.3842e-02,  4.6121e-04, -2.0698e-02, -3.0048e-02,\n",
       "                        2.9853e-02,  3.4218e-03, -7.6859e-03,  3.5264e-02,  2.3769e-02,\n",
       "                        3.9835e-04, -2.6696e-02, -2.2736e-03,  1.3301e-02,  1.4705e-02,\n",
       "                        2.6129e-03,  2.1140e-02,  1.1836e-02, -1.9412e-02, -1.8420e-02,\n",
       "                        2.7108e-02,  1.2572e-02,  1.1991e-02, -2.4313e-02,  2.8747e-03,\n",
       "                        1.5398e-02,  1.1506e-02, -3.4981e-02,  1.9127e-02,  5.9624e-03,\n",
       "                        9.4413e-03,  5.0643e-03,  2.0302e-03, -2.2066e-02,  5.6276e-03,\n",
       "                       -1.1340e-02, -6.7554e-04, -1.0364e-02,  4.2487e-03, -3.6685e-02,\n",
       "                       -1.1768e-02,  7.1130e-04, -4.2611e-04,  1.9371e-02,  1.7638e-03,\n",
       "                        2.0105e-02, -7.1485e-03,  9.1479e-03,  2.2370e-02]], device='cuda:0')),\n",
       "             ('action_net.bias',\n",
       "              tensor([-0.0130,  0.0117, -0.0165,  0.0175], device='cuda:0')),\n",
       "             ('value_net.weight',\n",
       "              tensor([[-0.0741,  0.0836, -0.1503,  0.3066,  0.1353,  0.0567,  0.0580,  0.1345,\n",
       "                       -0.0904,  0.0206, -0.1127,  0.0900, -0.2270, -0.1793, -0.1686,  0.2963,\n",
       "                       -0.1409, -0.0619, -0.3620, -0.0964, -0.0853,  0.1367,  0.3485,  0.0735,\n",
       "                       -0.0455,  0.1172,  0.1851, -0.1910, -0.1055, -0.0671,  0.1257, -0.1553,\n",
       "                       -0.0624,  0.0991, -0.1026, -0.0518, -0.0837, -0.1930, -0.1945,  0.2057,\n",
       "                       -0.1976,  0.1550,  0.1212, -0.0825, -0.1249,  0.0900,  0.3142, -0.2266,\n",
       "                        0.1602, -0.0630,  0.2062, -0.1386,  0.0799, -0.0719, -0.1045, -0.0839,\n",
       "                       -0.0534,  0.1076, -0.0781,  0.1529,  0.2647,  0.0672, -0.1951, -0.2341]],\n",
       "                     device='cuda:0')),\n",
       "             ('value_net.bias', tensor([0.0994], device='cuda:0'))])"
      ]
     },
     "execution_count": 121,
     "metadata": {},
     "output_type": "execute_result"
    }
   ],
   "source": [
    "model.policy.state_dict()"
   ]
  },
  {
   "cell_type": "code",
   "execution_count": null,
   "id": "recreational-original",
   "metadata": {},
   "outputs": [],
   "source": []
  }
 ],
 "metadata": {
  "kernelspec": {
   "display_name": "baselines-geese",
   "language": "python",
   "name": "baselines-geese"
  },
  "language_info": {
   "codemirror_mode": {
    "name": "ipython",
    "version": 3
   },
   "file_extension": ".py",
   "mimetype": "text/x-python",
   "name": "python",
   "nbconvert_exporter": "python",
   "pygments_lexer": "ipython3",
   "version": "3.8.5"
  }
 },
 "nbformat": 4,
 "nbformat_minor": 5
}
